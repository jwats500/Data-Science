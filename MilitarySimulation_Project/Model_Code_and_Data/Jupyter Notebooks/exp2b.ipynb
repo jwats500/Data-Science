{
 "cells": [
  {
   "cell_type": "code",
   "execution_count": 1,
   "id": "abfa78d3",
   "metadata": {},
   "outputs": [],
   "source": [
    "import os\n",
    "import pandas as pd\n",
    "import numpy as np\n",
    "import scipy as sp\n",
    "import matplotlib.pyplot as plt\n",
    "import statsmodels.api as sm\n",
    "import seaborn as sns\n",
    "import pandas.io.formats.style"
   ]
  },
  {
   "cell_type": "code",
   "execution_count": 2,
   "id": "e40a8416",
   "metadata": {},
   "outputs": [
    {
     "data": {
      "text/plain": [
       "'C:\\\\Users\\\\jwats\\\\Documents\\\\CodeandData\\\\Jupyter Notebooks'"
      ]
     },
     "execution_count": 2,
     "metadata": {},
     "output_type": "execute_result"
    }
   ],
   "source": [
    "os.getcwd()"
   ]
  },
  {
   "cell_type": "markdown",
   "id": "ca91bd6e",
   "metadata": {},
   "source": [
    "### Loading and Cleaning DataFrame"
   ]
  },
  {
   "cell_type": "code",
   "execution_count": 3,
   "id": "aeebb6d8",
   "metadata": {},
   "outputs": [],
   "source": [
    "df=pd.read_csv('exp_results/GROUP4-FINAL exp2b-table.csv',skiprows=6).rename(columns={})\n",
    "df=df.copy().rename(columns={ 'japanese-resupply-rate':'j-resupp',\n",
    "                             'japanese_supplies':'j-supp', \n",
    "                             'britain-casualties-hunger':'b-hung',\n",
    "                             'britain-casualties-combat':'b-comb',\n",
    "                             'japan-casualties-hunger':'j-hung',\n",
    "                             'japan-casualties-combat':'j-comb', \n",
    "                             'control-imphal':'imp',\n",
    "                             'control-kohima':'koh'})\n"
   ]
  },
  {
   "cell_type": "code",
   "execution_count": 4,
   "id": "b7f697b4",
   "metadata": {},
   "outputs": [],
   "source": [
    "df1=df[['ticks','j-resupp','b-hung','b-comb','j-hung','j-comb', 'imp', 'koh']].copy()\n",
    "df1.loc[df1['imp']=='Britain','imp']=0.0\n",
    "df1.loc[df1['imp']=='Japan','imp']=1.0\n",
    "df1.loc[df1['koh']=='Britain','koh']=0.0\n",
    "df1.loc[df1['koh']=='Japan','koh']=1.0\n",
    "df1['koh']=df1['koh'].astype(int)\n",
    "df1['imp']=df1['imp'].astype(int)\n",
    "df1['j-tot']=df1['j-comb']+df1['j-hung']\n",
    "df1['b-tot']=df1['b-comb']+df1['b-hung']\n",
    "df1['j-per']=df1['j-comb']/df1['j-tot']\n",
    "df1['b-per']=df1['b-comb']/df1['b-tot']"
   ]
  },
  {
   "cell_type": "markdown",
   "id": "fb48289f",
   "metadata": {},
   "source": [
    "### Summary Stats and Regression Analysis (for tables)"
   ]
  },
  {
   "cell_type": "code",
   "execution_count": 5,
   "id": "16907161",
   "metadata": {},
   "outputs": [],
   "source": [
    "#Summary stats\n",
    "exp2b=df1.groupby('j-resupp',as_index=False).agg({'j-tot' : 'mean', \n",
    "                                               'b-tot' : 'mean',\n",
    "                                               'imp':'sum',\n",
    "                                               'koh':'sum',\n",
    "                                               'ticks':'mean',\n",
    "                                               'j-per':'mean',\n",
    "                                               'b-per':'mean'})\n",
    "a=exp2b.rename(columns={'j-resupp':'Re-supply Rate', \n",
    "                      'j-tot':'Axis Casualties', \n",
    "                      'b-tot':'Ally Casualties', \n",
    "                      'imp':'Imphal Captured', \n",
    "                      'koh':'Kohima Captured', \n",
    "                      'ticks':'Days', \n",
    "                      'j-per':'% Combat'})"
   ]
  },
  {
   "cell_type": "code",
   "execution_count": 6,
   "id": "ed1ebf48",
   "metadata": {},
   "outputs": [
    {
     "name": "stderr",
     "output_type": "stream",
     "text": [
      "C:\\Users\\jwats\\AppData\\Local\\Temp\\ipykernel_29296\\1400606284.py:3: SettingWithCopyWarning: \n",
      "A value is trying to be set on a copy of a slice from a DataFrame.\n",
      "Try using .loc[row_indexer,col_indexer] = value instead\n",
      "\n",
      "See the caveats in the documentation: https://pandas.pydata.org/pandas-docs/stable/user_guide/indexing.html#returning-a-view-versus-a-copy\n",
      "  b['% Combat']=b['% Combat']*100\n"
     ]
    },
    {
     "data": {
      "text/html": [
       "<div>\n",
       "<style scoped>\n",
       "    .dataframe tbody tr th:only-of-type {\n",
       "        vertical-align: middle;\n",
       "    }\n",
       "\n",
       "    .dataframe tbody tr th {\n",
       "        vertical-align: top;\n",
       "    }\n",
       "\n",
       "    .dataframe thead th {\n",
       "        text-align: right;\n",
       "    }\n",
       "</style>\n",
       "<table border=\"1\" class=\"dataframe\">\n",
       "  <thead>\n",
       "    <tr style=\"text-align: right;\">\n",
       "      <th></th>\n",
       "      <th>Re-supply Rate</th>\n",
       "      <th>Axis Casualties</th>\n",
       "      <th>Ally Casualties</th>\n",
       "      <th>Imphal Captured</th>\n",
       "      <th>Kohima Captured</th>\n",
       "      <th>Days</th>\n",
       "      <th>% Combat</th>\n",
       "    </tr>\n",
       "  </thead>\n",
       "  <tbody>\n",
       "    <tr>\n",
       "      <th>0</th>\n",
       "      <td>2</td>\n",
       "      <td>62663</td>\n",
       "      <td>32865</td>\n",
       "      <td>0</td>\n",
       "      <td>0</td>\n",
       "      <td>132</td>\n",
       "      <td>51</td>\n",
       "    </tr>\n",
       "    <tr>\n",
       "      <th>1</th>\n",
       "      <td>4</td>\n",
       "      <td>73922</td>\n",
       "      <td>54521</td>\n",
       "      <td>0</td>\n",
       "      <td>0</td>\n",
       "      <td>170</td>\n",
       "      <td>72</td>\n",
       "    </tr>\n",
       "    <tr>\n",
       "      <th>2</th>\n",
       "      <td>6</td>\n",
       "      <td>81962</td>\n",
       "      <td>87054</td>\n",
       "      <td>0</td>\n",
       "      <td>4</td>\n",
       "      <td>222</td>\n",
       "      <td>92</td>\n",
       "    </tr>\n",
       "    <tr>\n",
       "      <th>3</th>\n",
       "      <td>8</td>\n",
       "      <td>83286</td>\n",
       "      <td>107669</td>\n",
       "      <td>6</td>\n",
       "      <td>98</td>\n",
       "      <td>252</td>\n",
       "      <td>100</td>\n",
       "    </tr>\n",
       "    <tr>\n",
       "      <th>4</th>\n",
       "      <td>10</td>\n",
       "      <td>75396</td>\n",
       "      <td>115864</td>\n",
       "      <td>100</td>\n",
       "      <td>100</td>\n",
       "      <td>239</td>\n",
       "      <td>100</td>\n",
       "    </tr>\n",
       "  </tbody>\n",
       "</table>\n",
       "</div>"
      ],
      "text/plain": [
       "   Re-supply Rate  Axis Casualties  Ally Casualties  Imphal Captured  \\\n",
       "0               2            62663            32865                0   \n",
       "1               4            73922            54521                0   \n",
       "2               6            81962            87054                0   \n",
       "3               8            83286           107669                6   \n",
       "4              10            75396           115864              100   \n",
       "\n",
       "   Kohima Captured  Days  % Combat  \n",
       "0                0   132        51  \n",
       "1                0   170        72  \n",
       "2                4   222        92  \n",
       "3               98   252       100  \n",
       "4              100   239       100  "
      ]
     },
     "execution_count": 6,
     "metadata": {},
     "output_type": "execute_result"
    }
   ],
   "source": [
    "b=a[['Re-supply Rate', 'Axis Casualties', 'Ally Casualties',\n",
    "       'Imphal Captured', 'Kohima Captured', 'Days', '% Combat']]\n",
    "b['% Combat']=b['% Combat']*100\n",
    "b.round().astype(int)"
   ]
  },
  {
   "cell_type": "code",
   "execution_count": 7,
   "id": "c76ea1f2",
   "metadata": {},
   "outputs": [
    {
     "name": "stdout",
     "output_type": "stream",
     "text": [
      "1741.5395000000126\n",
      "89.29055493321016\n",
      "380.4132315662196\n",
      "2.3056172861472578e-63\n",
      "0.4330686491230773\n"
     ]
    }
   ],
   "source": [
    "### Regression 1: casualties vs supplies\n",
    "import statsmodels.api as sm\n",
    "\n",
    "#define response variable\n",
    "y = df1['j-tot']\n",
    "\n",
    "#define predictor variables\n",
    "x = df1[['j-resupp']]\n",
    "\n",
    "#add constant to predictor variables\n",
    "x = sm.add_constant(x)\n",
    "\n",
    "#fit linear regression model\n",
    "model = sm.OLS(y, x).fit()\n",
    "\n",
    "#view model summary\n",
    "print(model.params[1])\n",
    "print(model.bse[1])\n",
    "print(model.fvalue)\n",
    "print(model.pvalues[1])\n",
    "print(model.rsquared)"
   ]
  },
  {
   "cell_type": "code",
   "execution_count": 8,
   "id": "0eb79859",
   "metadata": {},
   "outputs": [
    {
     "name": "stdout",
     "output_type": "stream",
     "text": [
      "14.84150000000001\n",
      "0.3556100229940308\n",
      "1741.8373803388172\n",
      "1.0319641320960931e-164\n",
      "0.7776624301516621\n"
     ]
    }
   ],
   "source": [
    "### Regression 2: days vs supplies\n",
    "import statsmodels.api as sm\n",
    "\n",
    "#define response variable\n",
    "y = df1['ticks']\n",
    "\n",
    "#define predictor variables\n",
    "x = df1[['j-resupp']]\n",
    "\n",
    "#add constant to predictor variables\n",
    "x = sm.add_constant(x)\n",
    "\n",
    "#fit linear regression model\n",
    "model = sm.OLS(y, x).fit()\n",
    "\n",
    "#view model summary\n",
    "print(model.params[1])\n",
    "print(model.bse[1])\n",
    "print(model.fvalue)\n",
    "print(model.pvalues[1])\n",
    "print(model.rsquared)"
   ]
  },
  {
   "cell_type": "code",
   "execution_count": 9,
   "id": "50d4204a",
   "metadata": {},
   "outputs": [
    {
     "name": "stdout",
     "output_type": "stream",
     "text": [
      "Warning: Maximum number of iterations has been exceeded.\n",
      "         Current function value: 0.045394\n",
      "         Iterations: 35\n",
      "                           Logit Regression Results                           \n",
      "==============================================================================\n",
      "Dep. Variable:                    imp   No. Observations:                  500\n",
      "Model:                          Logit   Df Residuals:                      498\n",
      "Method:                           MLE   Df Model:                            1\n",
      "Date:                Sun, 23 Apr 2023   Pseudo R-squ.:                  0.9121\n",
      "Time:                        11:54:57   Log-Likelihood:                -22.697\n",
      "converged:                      False   LL-Null:                       -258.30\n",
      "Covariance Type:            nonrobust   LLR p-value:                1.756e-104\n",
      "==============================================================================\n",
      "                 coef    std err          z      P>|z|      [0.025      0.975]\n",
      "------------------------------------------------------------------------------\n",
      "const        -90.8060   6079.713     -0.015      0.988    -1.2e+04    1.18e+04\n",
      "j-resupp      11.0068    759.964      0.014      0.988   -1478.496    1500.509\n",
      "==============================================================================\n",
      "\n",
      "Possibly complete quasi-separation: A fraction 0.80 of observations can be\n",
      "perfectly predicted. This might indicate that there is complete\n",
      "quasi-separation. In this case some parameters will not be identified.\n",
      "                          Results: Logit\n",
      "==================================================================\n",
      "Model:              Logit            Pseudo R-squared: 0.912      \n",
      "Dependent Variable: imp              AIC:              49.3935    \n",
      "Date:               2023-04-23 11:54 BIC:              57.8227    \n",
      "No. Observations:   500              Log-Likelihood:   -22.697    \n",
      "Df Model:           1                LL-Null:          -258.30    \n",
      "Df Residuals:       498              LLR p-value:      1.7556e-104\n",
      "Converged:          0.0000           Scale:            1.0000     \n",
      "No. Iterations:     35.0000                                       \n",
      "------------------------------------------------------------------\n",
      "           Coef.    Std.Err.    z    P>|z|     [0.025     0.975]  \n",
      "------------------------------------------------------------------\n",
      "const     -90.8060 6079.7134 -0.0149 0.9881 -12006.8253 11825.2134\n",
      "j-resupp   11.0068  759.9642  0.0145 0.9884  -1478.4956  1500.5092\n",
      "==================================================================\n",
      "\n"
     ]
    },
    {
     "name": "stderr",
     "output_type": "stream",
     "text": [
      "C:\\Users\\jwats\\anaconda3\\lib\\site-packages\\statsmodels\\base\\model.py:604: ConvergenceWarning: Maximum Likelihood optimization failed to converge. Check mle_retvals\n",
      "  warnings.warn(\"Maximum Likelihood optimization failed to \"\n"
     ]
    }
   ],
   "source": [
    "### Regression 4: capturing imphal vs supplies\n",
    "import statsmodels.api as sm\n",
    "\n",
    "#define response variable\n",
    "y = df1['imp']\n",
    "\n",
    "#define predictor variables\n",
    "x = df1['j-resupp']\n",
    "\n",
    "#add constant to predictor variables\n",
    "x = sm.add_constant(x)\n",
    "\n",
    "#fit linear regression model\n",
    "model = sm.OLS(y, x).fit()\n",
    "\n",
    "#view model summary\n",
    "#fit linear regression model\n",
    "model = sm.Logit(y, x).fit()\n",
    "\n",
    "#view model summary\n",
    "print(model.summary())\n",
    "print(model.summary2())"
   ]
  },
  {
   "cell_type": "code",
   "execution_count": 10,
   "id": "4481f144",
   "metadata": {},
   "outputs": [
    {
     "name": "stdout",
     "output_type": "stream",
     "text": [
      "Optimization terminated successfully.\n",
      "         Current function value: 0.053207\n",
      "         Iterations 10\n",
      "                           Logit Regression Results                           \n",
      "==============================================================================\n",
      "Dep. Variable:                    koh   No. Observations:                  500\n",
      "Model:                          Logit   Df Residuals:                      498\n",
      "Method:                           MLE   Df Model:                            1\n",
      "Date:                Sun, 23 Apr 2023   Pseudo R-squ.:                  0.9211\n",
      "Time:                        11:54:57   Log-Likelihood:                -26.604\n",
      "converged:                       True   LL-Null:                       -337.30\n",
      "Covariance Type:            nonrobust   LLR p-value:                3.722e-137\n",
      "==============================================================================\n",
      "                 coef    std err          z      P>|z|      [0.025      0.975]\n",
      "------------------------------------------------------------------------------\n",
      "const        -24.4075      2.951     -8.271      0.000     -30.191     -18.624\n",
      "j-resupp       3.5379      0.438      8.083      0.000       2.680       4.396\n",
      "==============================================================================\n",
      "\n",
      "Possibly complete quasi-separation: A fraction 0.60 of observations can be\n",
      "perfectly predicted. This might indicate that there is complete\n",
      "quasi-separation. In this case some parameters will not be identified.\n",
      "                          Results: Logit\n",
      "==================================================================\n",
      "Model:              Logit            Pseudo R-squared: 0.921      \n",
      "Dependent Variable: koh              AIC:              57.2072    \n",
      "Date:               2023-04-23 11:54 BIC:              65.6364    \n",
      "No. Observations:   500              Log-Likelihood:   -26.604    \n",
      "Df Model:           1                LL-Null:          -337.30    \n",
      "Df Residuals:       498              LLR p-value:      3.7220e-137\n",
      "Converged:          1.0000           Scale:            1.0000     \n",
      "No. Iterations:     10.0000                                       \n",
      "-------------------------------------------------------------------\n",
      "             Coef.    Std.Err.     z     P>|z|    [0.025    0.975] \n",
      "-------------------------------------------------------------------\n",
      "const       -24.4075    2.9510  -8.2710  0.0000  -30.1913  -18.6237\n",
      "j-resupp      3.5379    0.4377   8.0826  0.0000    2.6800    4.3958\n",
      "==================================================================\n",
      "\n"
     ]
    }
   ],
   "source": [
    "### Regression 5: capturing imphal vs supplies\n",
    "import statsmodels.api as sm\n",
    "\n",
    "#define response variable\n",
    "y = df1['koh']\n",
    "\n",
    "#define predictor variables\n",
    "x = df1[['j-resupp']]\n",
    "\n",
    "#add constant to predictor variables\n",
    "x = sm.add_constant(x)\n",
    "\n",
    "#fit linear regression model\n",
    "\n",
    "#view model summary\n",
    "#fit linear regression model\n",
    "model = sm.Logit(y, x).fit()\n",
    "\n",
    "#view model summary\n",
    "print(model.summary())\n",
    "print(model.summary2())"
   ]
  },
  {
   "cell_type": "markdown",
   "id": "3a88ff8a",
   "metadata": {},
   "source": [
    "### Data Visualizations: Scatter plots"
   ]
  },
  {
   "cell_type": "code",
   "execution_count": 11,
   "id": "1317e695",
   "metadata": {},
   "outputs": [
    {
     "data": {
      "image/png": "[encoded data removed]",
      "text/plain": [
       "<Figure size 640x480 with 1 Axes>"
      ]
     },
     "metadata": {},
     "output_type": "display_data"
    }
   ],
   "source": [
    "sns.set_theme()\n",
    "\n",
    "plt.scatter(df1['j-resupp'], df1['b-tot'],color='blue',label='Ally Casualties', zorder=1)\n",
    "plt.scatter(df1['j-resupp'], df1['j-tot'], color='red',label='Axis Casualties',zorder=1)\n",
    "plt.scatter(exp2b['j-resupp'], exp2b['b-tot'],color='white',marker='*',edgecolor='black',linewidth=0.25,label='Allied Expected',zorder=2,s=100)\n",
    "plt.scatter(exp2b['j-resupp'], exp2b['j-tot'], color='black',marker='*',edgecolor='black',linewidth=0.25,label='Axis Expected',zorder=2,s=100)\n",
    "\n",
    "plt.title('Casualties vs Re-supply: Ally and Axis')\n",
    "plt.xlabel('Re-supply Rate')\n",
    "plt.ylabel('Casualties')\n",
    "plt.legend()\n",
    "plt.tight_layout()\n",
    "plt.savefig('images/exp2b1.png',dpi=500)\n",
    "plt.show()"
   ]
  },
  {
   "cell_type": "code",
   "execution_count": 12,
   "id": "70cf9c2b",
   "metadata": {},
   "outputs": [
    {
     "data": {
      "image/png": "[encoded data removed]",
      "text/plain": [
       "<Figure size 640x480 with 1 Axes>"
      ]
     },
     "metadata": {},
     "output_type": "display_data"
    }
   ],
   "source": [
    "sns.set_theme()\n",
    "\n",
    "plt.scatter(df1['j-resupp'], df1['ticks'],label='Days', color=\"black\")\n",
    "plt.scatter(exp2b['j-resupp'], exp2b['ticks'],label='Days Expected',color='white',marker='*',edgecolor='black',linewidth=0.25,zorder=2,s=100)\n",
    "plt.title('Days to Conflict End vs Re-supply')\n",
    "\n",
    "plt.xlabel('Re-supply Rate')\n",
    "plt.ylabel('Days')\n",
    "plt.legend()\n",
    "plt.tight_layout()\n",
    "plt.savefig('images/exp2b2.png',dpi=500)\n",
    "plt.show()"
   ]
  }
 ],
 "metadata": {
  "kernelspec": {
   "display_name": "Python 3 (ipykernel)",
   "language": "python",
   "name": "python3"
  },
  "language_info": {
   "codemirror_mode": {
    "name": "ipython",
    "version": 3
   },
   "file_extension": ".py",
   "mimetype": "text/x-python",
   "name": "python",
   "nbconvert_exporter": "python",
   "pygments_lexer": "ipython3",
   "version": "3.9.13"
  }
 },
 "nbformat": 4,
 "nbformat_minor": 5
}
